{
 "cells": [
  {
   "cell_type": "markdown",
   "id": "38123ab1-8331-4e16-8642-0300d2146eba",
   "metadata": {},
   "source": [
    "# Intento por hacer funcionar el algoritmo del perceptron"
   ]
  },
  {
   "cell_type": "code",
   "execution_count": 6,
   "id": "8a62c9bd-eaaf-499d-8b4f-8ae1b41f2910",
   "metadata": {},
   "outputs": [],
   "source": [
    "# Librerias necesarias\n",
    "import PerceptronS as ps   # Perceptron SIMPLE\n",
    "import numpy as np # Para manipular arreglos\n",
    "import pandas as pd # Para manipular arreglos\n",
    "from sklearn.model_selection import train_test_split # Para dividir en prueba y entrenamiento\n",
    "from sklearn.preprocessing import StandardScaler # Escalador de las variables\n",
    "import csv # Para importar datos CSV"
   ]
  },
  {
   "cell_type": "code",
   "execution_count": 3,
   "id": "94509bdd-c2e6-47df-97b5-bbcea5215b32",
   "metadata": {},
   "outputs": [
    {
     "data": {
      "text/html": [
       "<div>\n",
       "<style scoped>\n",
       "    .dataframe tbody tr th:only-of-type {\n",
       "        vertical-align: middle;\n",
       "    }\n",
       "\n",
       "    .dataframe tbody tr th {\n",
       "        vertical-align: top;\n",
       "    }\n",
       "\n",
       "    .dataframe thead th {\n",
       "        text-align: right;\n",
       "    }\n",
       "</style>\n",
       "<table border=\"1\" class=\"dataframe\">\n",
       "  <thead>\n",
       "    <tr style=\"text-align: right;\">\n",
       "      <th></th>\n",
       "      <th>Sepal.Length</th>\n",
       "      <th>Sepal.Width</th>\n",
       "      <th>Petal.Length</th>\n",
       "      <th>Petal.Width</th>\n",
       "      <th>Species</th>\n",
       "    </tr>\n",
       "  </thead>\n",
       "  <tbody>\n",
       "    <tr>\n",
       "      <th>0</th>\n",
       "      <td>7.0</td>\n",
       "      <td>3.2</td>\n",
       "      <td>4.7</td>\n",
       "      <td>1.4</td>\n",
       "      <td>0</td>\n",
       "    </tr>\n",
       "    <tr>\n",
       "      <th>1</th>\n",
       "      <td>6.4</td>\n",
       "      <td>3.2</td>\n",
       "      <td>4.5</td>\n",
       "      <td>1.5</td>\n",
       "      <td>0</td>\n",
       "    </tr>\n",
       "    <tr>\n",
       "      <th>2</th>\n",
       "      <td>6.9</td>\n",
       "      <td>3.1</td>\n",
       "      <td>4.9</td>\n",
       "      <td>1.5</td>\n",
       "      <td>0</td>\n",
       "    </tr>\n",
       "    <tr>\n",
       "      <th>3</th>\n",
       "      <td>5.5</td>\n",
       "      <td>2.3</td>\n",
       "      <td>4.0</td>\n",
       "      <td>1.3</td>\n",
       "      <td>0</td>\n",
       "    </tr>\n",
       "    <tr>\n",
       "      <th>4</th>\n",
       "      <td>6.5</td>\n",
       "      <td>2.8</td>\n",
       "      <td>4.6</td>\n",
       "      <td>1.5</td>\n",
       "      <td>0</td>\n",
       "    </tr>\n",
       "  </tbody>\n",
       "</table>\n",
       "</div>"
      ],
      "text/plain": [
       "   Sepal.Length  Sepal.Width  Petal.Length  Petal.Width  Species\n",
       "0           7.0          3.2           4.7          1.4        0\n",
       "1           6.4          3.2           4.5          1.5        0\n",
       "2           6.9          3.1           4.9          1.5        0\n",
       "3           5.5          2.3           4.0          1.3        0\n",
       "4           6.5          2.8           4.6          1.5        0"
      ]
     },
     "execution_count": 3,
     "metadata": {},
     "output_type": "execute_result"
    }
   ],
   "source": [
    "#Cargar los datos \n",
    "ruta1 = \"C:\\\\Users\\\\Angel\\\\Desktop\\\\MIA PRIMER SEMESTRE\\\\Machine Learning\\\\TAREA 3. PERCEPTRONES\\\\BASES\\\\irisvv.csv\"\n",
    "datos = pd.read_csv(ruta1)\n",
    "datos.head()"
   ]
  },
  {
   "cell_type": "code",
   "execution_count": 25,
   "id": "0abb2db4-4796-4b0b-8c66-094177899c9b",
   "metadata": {},
   "outputs": [],
   "source": [
    "# Dividir manualmente la base\n",
    "X = datos.iloc[:,:-1].values\n",
    "Y = datos.iloc[:,-1].values\n",
    "# Escalar los valores\n",
    "# Normalizar las características\n",
    "scaler = StandardScaler()\n",
    "X = scaler.fit_transform(X)\n",
    "#Dividir en conjunto de entrenamiento y prueba\n",
    "X_train, X_test, y_train, y_test = train_test_split(X, Y, test_size=0.3, random_state=25)\n",
    "# Convertir y_train a un array bidimensional con una sola columna\n",
    "y_train = y_train.reshape(-1, 1)\n",
    "y_test = y_test.reshape(-1, 1)"
   ]
  },
  {
   "cell_type": "markdown",
   "id": "6632963d-dc7b-47a1-8afd-e430981a4ad9",
   "metadata": {},
   "source": [
    "## Entrenar al perceptron simple"
   ]
  },
  {
   "cell_type": "code",
   "execution_count": 29,
   "id": "9cf5728f-0b22-4e26-b490-b19609fb5e0b",
   "metadata": {},
   "outputs": [
    {
     "name": "stdout",
     "output_type": "stream",
     "text": [
      "Iteration 1, Error: 0.45714285714285713\n",
      "Iteration 2, Error: 0.5571428571428572\n",
      "Iteration 3, Error: 0.42857142857142855\n",
      "Iteration 4, Error: 0.5857142857142857\n",
      "Iteration 5, Error: 0.42857142857142855\n",
      "Iteration 6, Error: 0.4857142857142857\n",
      "Iteration 7, Error: 0.5285714285714286\n",
      "Iteration 8, Error: 0.45714285714285713\n",
      "Iteration 9, Error: 0.5857142857142857\n",
      "Iteration 10, Error: 0.45714285714285713\n",
      "Iteration 11, Error: 0.5571428571428572\n",
      "Iteration 12, Error: 0.5857142857142857\n",
      "Iteration 13, Error: 0.5285714285714286\n",
      "Iteration 14, Error: 0.38571428571428573\n",
      "Iteration 15, Error: 0.6285714285714286\n",
      "Iteration 16, Error: 0.5285714285714286\n",
      "Iteration 17, Error: 0.44285714285714284\n",
      "Iteration 18, Error: 0.4142857142857143\n",
      "Iteration 19, Error: 0.42857142857142855\n",
      "Iteration 20, Error: 0.5428571428571428\n",
      "Iteration 21, Error: 0.5\n",
      "Iteration 22, Error: 0.44285714285714284\n",
      "Iteration 23, Error: 0.5142857142857142\n",
      "Iteration 24, Error: 0.5428571428571428\n",
      "Iteration 25, Error: 0.5\n",
      "Iteration 26, Error: 0.38571428571428573\n",
      "Iteration 27, Error: 0.42857142857142855\n",
      "Iteration 28, Error: 0.5142857142857142\n",
      "Iteration 29, Error: 0.4857142857142857\n",
      "Iteration 30, Error: 0.42857142857142855\n",
      "Iteration 31, Error: 0.5142857142857142\n",
      "Iteration 32, Error: 0.6428571428571429\n",
      "Iteration 33, Error: 0.6285714285714286\n",
      "Iteration 34, Error: 0.4714285714285714\n",
      "Iteration 35, Error: 0.38571428571428573\n",
      "Iteration 36, Error: 0.5142857142857142\n",
      "Iteration 37, Error: 0.4857142857142857\n",
      "Iteration 38, Error: 0.4714285714285714\n",
      "Iteration 39, Error: 0.44285714285714284\n",
      "Iteration 40, Error: 0.5285714285714286\n",
      "Iteration 41, Error: 0.5\n",
      "Iteration 42, Error: 0.4714285714285714\n",
      "Iteration 43, Error: 0.38571428571428573\n",
      "Iteration 44, Error: 0.44285714285714284\n",
      "Iteration 45, Error: 0.5285714285714286\n",
      "Iteration 46, Error: 0.4857142857142857\n",
      "Iteration 47, Error: 0.5428571428571428\n",
      "Iteration 48, Error: 0.5\n",
      "Iteration 49, Error: 0.4714285714285714\n",
      "Iteration 50, Error: 0.5285714285714286\n",
      "Iteration 51, Error: 0.4714285714285714\n",
      "Iteration 52, Error: 0.5142857142857142\n",
      "Iteration 53, Error: 0.5142857142857142\n",
      "Iteration 54, Error: 0.6571428571428571\n",
      "Iteration 55, Error: 0.5142857142857142\n",
      "Iteration 56, Error: 0.5714285714285714\n",
      "Iteration 57, Error: 0.45714285714285713\n",
      "Iteration 58, Error: 0.4857142857142857\n",
      "Iteration 59, Error: 0.5142857142857142\n",
      "Iteration 60, Error: 0.5428571428571428\n",
      "Iteration 61, Error: 0.4\n",
      "Iteration 62, Error: 0.4857142857142857\n",
      "Iteration 63, Error: 0.42857142857142855\n",
      "Iteration 64, Error: 0.42857142857142855\n",
      "Iteration 65, Error: 0.5428571428571428\n",
      "Iteration 66, Error: 0.4857142857142857\n",
      "Iteration 67, Error: 0.4857142857142857\n",
      "Iteration 68, Error: 0.4857142857142857\n",
      "Iteration 69, Error: 0.45714285714285713\n",
      "Iteration 70, Error: 0.45714285714285713\n",
      "Iteration 71, Error: 0.5428571428571428\n",
      "Iteration 72, Error: 0.4857142857142857\n",
      "Iteration 73, Error: 0.45714285714285713\n",
      "Iteration 74, Error: 0.42857142857142855\n",
      "Iteration 75, Error: 0.4857142857142857\n",
      "Iteration 76, Error: 0.5428571428571428\n",
      "Iteration 77, Error: 0.4857142857142857\n",
      "Iteration 78, Error: 0.45714285714285713\n",
      "Iteration 79, Error: 0.5714285714285714\n",
      "Iteration 80, Error: 0.5428571428571428\n",
      "Iteration 81, Error: 0.4857142857142857\n",
      "Iteration 82, Error: 0.6285714285714286\n",
      "Iteration 83, Error: 0.5428571428571428\n",
      "Iteration 84, Error: 0.45714285714285713\n",
      "Iteration 85, Error: 0.42857142857142855\n",
      "Iteration 86, Error: 0.4\n",
      "Iteration 87, Error: 0.4857142857142857\n",
      "Iteration 88, Error: 0.5428571428571428\n",
      "Iteration 89, Error: 0.5142857142857142\n",
      "Iteration 90, Error: 0.45714285714285713\n",
      "Iteration 91, Error: 0.45714285714285713\n",
      "Iteration 92, Error: 0.4\n",
      "Iteration 93, Error: 0.5428571428571428\n",
      "Iteration 94, Error: 0.4857142857142857\n",
      "Iteration 95, Error: 0.4857142857142857\n",
      "Iteration 96, Error: 0.5142857142857142\n",
      "Iteration 97, Error: 0.6\n",
      "Iteration 98, Error: 0.4857142857142857\n",
      "Iteration 99, Error: 0.5428571428571428\n",
      "Iteration 100, Error: 0.5142857142857142\n"
     ]
    }
   ],
   "source": [
    "# 4. Inicializar y entrenar el perceptrón\n",
    "modeloS = ps.Perceptron(X_train, y_train)  # Redimensionamos y_train para que sea un vector columna\n",
    "modeloS.pcntrain(X_train, y_train,eta = 0.3,nIterations=100)\n"
   ]
  },
  {
   "cell_type": "markdown",
   "id": "0ab2034f-27b0-4358-bddf-32d6a641639c",
   "metadata": {},
   "source": [
    "## Evaluar al perceptron simlpe"
   ]
  },
  {
   "cell_type": "code",
   "execution_count": 30,
   "id": "49cea3e7-d233-4ade-80a9-a20ecacffe6c",
   "metadata": {},
   "outputs": [
    {
     "name": "stdout",
     "output_type": "stream",
     "text": [
      "Confusion matrix sobre la data de prueba:\n",
      "Confusion Matrix:\n",
      "[[39  0]\n",
      " [ 0 31]]\n",
      "Accuracy: 1.00\n"
     ]
    }
   ],
   "source": [
    "# 5. Evaluar el modelo en el conjunto de prueba\n",
    "print(\"Confusion matrix sobre la data de prueba:\")\n",
    "modeloS.confmat(X_train, y_train)"
   ]
  },
  {
   "cell_type": "code",
   "execution_count": 31,
   "id": "80bfaf64-b52a-4369-8c3a-23bcaf3d0c76",
   "metadata": {},
   "outputs": [
    {
     "name": "stdout",
     "output_type": "stream",
     "text": [
      "\n",
      "Resultados en conjunto de prueba:\n",
      "Confusion Matrix:\n",
      "[[ 9  0]\n",
      " [ 2 19]]\n",
      "Accuracy: 0.93\n"
     ]
    }
   ],
   "source": [
    "print(\"\\nResultados en conjunto de prueba:\")\n",
    "modeloS.confmat(X_test, y_test)"
   ]
  }
 ],
 "metadata": {
  "kernelspec": {
   "display_name": "Python 3 (ipykernel)",
   "language": "python",
   "name": "python3"
  },
  "language_info": {
   "codemirror_mode": {
    "name": "ipython",
    "version": 3
   },
   "file_extension": ".py",
   "mimetype": "text/x-python",
   "name": "python",
   "nbconvert_exporter": "python",
   "pygments_lexer": "ipython3",
   "version": "3.13.0"
  }
 },
 "nbformat": 4,
 "nbformat_minor": 5
}
