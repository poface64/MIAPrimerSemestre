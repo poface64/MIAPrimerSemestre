{
 "cells": [
  {
   "cell_type": "markdown",
   "id": "38123ab1-8331-4e16-8642-0300d2146eba",
   "metadata": {},
   "source": [
    "# Aprendizaje Automático\n",
    "\n",
    "## Ángel García Báez"
   ]
  },
  {
   "cell_type": "markdown",
   "id": "6611a4b4-88d1-471e-99fb-37d1cbb186c9",
   "metadata": {},
   "source": [
    "# Introducción \n",
    "En el presente reporte se busca poner en funcionamiento los scripts del libro visto en clase _Machine Learning. An Algorithmic Perspective_ en donde se tiene codificado la forma de crear, entrenar y evaluar un perceptrón simple y un perceptrón multicapa."
   ]
  },
  {
   "cell_type": "markdown",
   "id": "69acc394-7dbf-45f6-80e8-fc29e18c8924",
   "metadata": {},
   "source": [
    "# Perceptrón Simple\n",
    "\n",
    "Para el perceptrón simple se tomo de base el algoritmo proporcionado por el repositorio del libro, posteriormente se trato de ejecutar sin ningun exito, puesto que el codigo contaba con una serie de errores cruciales para el correcto funcionamiento del codigo. Los errores que más destacan son: varios comandos _print_ sin parentesis que producian paros en el codigo junto con una versión no dinamica de lo que esperaba el algoritmo recibir para evaluar la matriz de confusión. Dichos problemas fueron solventados para lograr hacer el codigo con normalidad.\n",
    "\n",
    "A continuación se muestra una pequeña corrida del codigo funcionando con la base de datos de iris, previamente depurada para que contenga unicamente 2 clases (versicolor = 0 y virginica = 1). Cabe mencionar que para hacer funcionar el perceptrón simple, fue necesario escalar los valores de las variables en un rango que va de 0 a 1 para que las predicciones del perceptrón tuvieran sentido."
   ]
  },
  {
   "cell_type": "code",
   "execution_count": 7,
   "id": "8a62c9bd-eaaf-499d-8b4f-8ae1b41f2910",
   "metadata": {},
   "outputs": [],
   "source": [
    "# Librerias necesarias\n",
    "import PerceptronS as ps   # Perceptron SIMPLE\n",
    "import numpy as np # Para manipular arreglos\n",
    "import pandas as pd # Para manipular arreglos\n",
    "from sklearn.model_selection import train_test_split # Para dividir en prueba y entrenamiento\n",
    "from sklearn.preprocessing import StandardScaler # Escalador de las variables\n",
    "import csv # Para importar datos CSV"
   ]
  },
  {
   "cell_type": "code",
   "execution_count": 8,
   "id": "94509bdd-c2e6-47df-97b5-bbcea5215b32",
   "metadata": {},
   "outputs": [
    {
     "data": {
      "text/html": [
       "<div>\n",
       "<style scoped>\n",
       "    .dataframe tbody tr th:only-of-type {\n",
       "        vertical-align: middle;\n",
       "    }\n",
       "\n",
       "    .dataframe tbody tr th {\n",
       "        vertical-align: top;\n",
       "    }\n",
       "\n",
       "    .dataframe thead th {\n",
       "        text-align: right;\n",
       "    }\n",
       "</style>\n",
       "<table border=\"1\" class=\"dataframe\">\n",
       "  <thead>\n",
       "    <tr style=\"text-align: right;\">\n",
       "      <th></th>\n",
       "      <th>Sepal.Length</th>\n",
       "      <th>Sepal.Width</th>\n",
       "      <th>Petal.Length</th>\n",
       "      <th>Petal.Width</th>\n",
       "      <th>Species</th>\n",
       "    </tr>\n",
       "  </thead>\n",
       "  <tbody>\n",
       "    <tr>\n",
       "      <th>0</th>\n",
       "      <td>7.0</td>\n",
       "      <td>3.2</td>\n",
       "      <td>4.7</td>\n",
       "      <td>1.4</td>\n",
       "      <td>0</td>\n",
       "    </tr>\n",
       "    <tr>\n",
       "      <th>1</th>\n",
       "      <td>6.4</td>\n",
       "      <td>3.2</td>\n",
       "      <td>4.5</td>\n",
       "      <td>1.5</td>\n",
       "      <td>0</td>\n",
       "    </tr>\n",
       "    <tr>\n",
       "      <th>2</th>\n",
       "      <td>6.9</td>\n",
       "      <td>3.1</td>\n",
       "      <td>4.9</td>\n",
       "      <td>1.5</td>\n",
       "      <td>0</td>\n",
       "    </tr>\n",
       "    <tr>\n",
       "      <th>3</th>\n",
       "      <td>5.5</td>\n",
       "      <td>2.3</td>\n",
       "      <td>4.0</td>\n",
       "      <td>1.3</td>\n",
       "      <td>0</td>\n",
       "    </tr>\n",
       "    <tr>\n",
       "      <th>4</th>\n",
       "      <td>6.5</td>\n",
       "      <td>2.8</td>\n",
       "      <td>4.6</td>\n",
       "      <td>1.5</td>\n",
       "      <td>0</td>\n",
       "    </tr>\n",
       "  </tbody>\n",
       "</table>\n",
       "</div>"
      ],
      "text/plain": [
       "   Sepal.Length  Sepal.Width  Petal.Length  Petal.Width  Species\n",
       "0           7.0          3.2           4.7          1.4        0\n",
       "1           6.4          3.2           4.5          1.5        0\n",
       "2           6.9          3.1           4.9          1.5        0\n",
       "3           5.5          2.3           4.0          1.3        0\n",
       "4           6.5          2.8           4.6          1.5        0"
      ]
     },
     "execution_count": 8,
     "metadata": {},
     "output_type": "execute_result"
    }
   ],
   "source": [
    "#Cargar los datos \n",
    "ruta1 =  \"C:\\\\Users\\\\Angel\\\\Desktop\\\\MIA PRIMER SEMESTRE\\\\Machine Learning\\\\TAREA 3. PERCEPTRONES\\\\BASES\\\\irisvv.csv\"\n",
    "datos = pd.read_csv(ruta1)\n",
    "datos.head()"
   ]
  },
  {
   "cell_type": "markdown",
   "id": "c3e8f449-9e55-4a2c-8f49-bf4d33693bb6",
   "metadata": {},
   "source": [
    "Despues de cargar la base de datos, se toma la base de iris para dividir en conjunto de prueba y conjunto de entrenamiento para poder evaluar que tan bueno es el perceptron simple:"
   ]
  },
  {
   "cell_type": "code",
   "execution_count": 9,
   "id": "0abb2db4-4796-4b0b-8c66-094177899c9b",
   "metadata": {},
   "outputs": [],
   "source": [
    "# Dividir manualmente la base\n",
    "X = datos.iloc[:,:-1].values\n",
    "Y = datos.iloc[:,-1].values\n",
    "# Escalar los valores\n",
    "# Normalizar las características\n",
    "scaler = StandardScaler()\n",
    "X = scaler.fit_transform(X)\n",
    "#Dividir en conjunto de entrenamiento y prueba\n",
    "X_train, X_test, y_train, y_test = train_test_split(X, Y, test_size=0.3, random_state=25)\n",
    "# Convertir y_train a un array bidimensional con una sola columna\n",
    "y_train = y_train.reshape(-1, 1)\n",
    "y_test = y_test.reshape(-1, 1)"
   ]
  },
  {
   "cell_type": "markdown",
   "id": "6632963d-dc7b-47a1-8afd-e430981a4ad9",
   "metadata": {},
   "source": [
    "## Entrenar al perceptrón simple"
   ]
  },
  {
   "cell_type": "code",
   "execution_count": 12,
   "id": "9cf5728f-0b22-4e26-b490-b19609fb5e0b",
   "metadata": {},
   "outputs": [
    {
     "name": "stdout",
     "output_type": "stream",
     "text": [
      "Iteration 1, Error: 0.42857142857142855\n",
      "Iteration 2, Error: 0.6857142857142857\n",
      "Iteration 3, Error: 0.45714285714285713\n",
      "Iteration 4, Error: 0.4142857142857143\n",
      "Iteration 5, Error: 0.4857142857142857\n",
      "Iteration 6, Error: 0.5\n",
      "Iteration 7, Error: 0.4857142857142857\n",
      "Iteration 8, Error: 0.5142857142857142\n",
      "Iteration 9, Error: 0.44285714285714284\n",
      "Iteration 10, Error: 0.5428571428571428\n",
      "Iteration 11, Error: 0.5571428571428572\n",
      "Iteration 12, Error: 0.4714285714285714\n",
      "Iteration 13, Error: 0.4857142857142857\n",
      "Iteration 14, Error: 0.45714285714285713\n",
      "Iteration 15, Error: 0.5\n",
      "Iteration 16, Error: 0.42857142857142855\n",
      "Iteration 17, Error: 0.5571428571428572\n",
      "Iteration 18, Error: 0.4857142857142857\n",
      "Iteration 19, Error: 0.6142857142857143\n",
      "Iteration 20, Error: 0.4714285714285714\n",
      "Iteration 21, Error: 0.42857142857142855\n",
      "Iteration 22, Error: 0.44285714285714284\n",
      "Iteration 23, Error: 0.4\n",
      "Iteration 24, Error: 0.6\n",
      "Iteration 25, Error: 0.4142857142857143\n",
      "Iteration 26, Error: 0.5571428571428572\n",
      "Iteration 27, Error: 0.44285714285714284\n",
      "Iteration 28, Error: 0.4857142857142857\n",
      "Iteration 29, Error: 0.5142857142857142\n",
      "Iteration 30, Error: 0.5428571428571428\n",
      "Iteration 31, Error: 0.5142857142857142\n",
      "Iteration 32, Error: 0.6\n",
      "Iteration 33, Error: 0.45714285714285713\n",
      "Iteration 34, Error: 0.45714285714285713\n",
      "Iteration 35, Error: 0.4857142857142857\n",
      "Iteration 36, Error: 0.45714285714285713\n",
      "Iteration 37, Error: 0.5428571428571428\n",
      "Iteration 38, Error: 0.5142857142857142\n",
      "Iteration 39, Error: 0.5428571428571428\n",
      "Iteration 40, Error: 0.4857142857142857\n",
      "Iteration 41, Error: 0.4857142857142857\n",
      "Iteration 42, Error: 0.4857142857142857\n",
      "Iteration 43, Error: 0.5714285714285714\n",
      "Iteration 44, Error: 0.6\n",
      "Iteration 45, Error: 0.45714285714285713\n",
      "Iteration 46, Error: 0.4857142857142857\n",
      "Iteration 47, Error: 0.4857142857142857\n",
      "Iteration 48, Error: 0.5142857142857142\n",
      "Iteration 49, Error: 0.5428571428571428\n",
      "Iteration 50, Error: 0.5142857142857142\n",
      "Iteration 51, Error: 0.4\n",
      "Iteration 52, Error: 0.5142857142857142\n",
      "Iteration 53, Error: 0.5428571428571428\n",
      "Iteration 54, Error: 0.4857142857142857\n",
      "Iteration 55, Error: 0.45714285714285713\n",
      "Iteration 56, Error: 0.5428571428571428\n",
      "Iteration 57, Error: 0.5428571428571428\n",
      "Iteration 58, Error: 0.5428571428571428\n",
      "Iteration 59, Error: 0.5714285714285714\n",
      "Iteration 60, Error: 0.6285714285714286\n",
      "Iteration 61, Error: 0.6285714285714286\n",
      "Iteration 62, Error: 0.4\n",
      "Iteration 63, Error: 0.5714285714285714\n",
      "Iteration 64, Error: 0.45714285714285713\n",
      "Iteration 65, Error: 0.4\n",
      "Iteration 66, Error: 0.42857142857142855\n",
      "Iteration 67, Error: 0.42857142857142855\n",
      "Iteration 68, Error: 0.4\n",
      "Iteration 69, Error: 0.4857142857142857\n",
      "Iteration 70, Error: 0.5714285714285714\n",
      "Iteration 71, Error: 0.4857142857142857\n",
      "Iteration 72, Error: 0.5714285714285714\n",
      "Iteration 73, Error: 0.5428571428571428\n",
      "Iteration 74, Error: 0.5142857142857142\n",
      "Iteration 75, Error: 0.5142857142857142\n",
      "Iteration 76, Error: 0.4857142857142857\n",
      "Iteration 77, Error: 0.5142857142857142\n",
      "Iteration 78, Error: 0.45714285714285713\n",
      "Iteration 79, Error: 0.6\n",
      "Iteration 80, Error: 0.5714285714285714\n",
      "Iteration 81, Error: 0.5714285714285714\n",
      "Iteration 82, Error: 0.5428571428571428\n",
      "Iteration 83, Error: 0.45714285714285713\n",
      "Iteration 84, Error: 0.45714285714285713\n",
      "Iteration 85, Error: 0.4\n",
      "Iteration 86, Error: 0.4857142857142857\n",
      "Iteration 87, Error: 0.45714285714285713\n",
      "Iteration 88, Error: 0.5428571428571428\n",
      "Iteration 89, Error: 0.5428571428571428\n",
      "Iteration 90, Error: 0.42857142857142855\n",
      "Iteration 91, Error: 0.42857142857142855\n",
      "Iteration 92, Error: 0.5142857142857142\n",
      "Iteration 93, Error: 0.6285714285714286\n",
      "Iteration 94, Error: 0.34285714285714286\n",
      "Iteration 95, Error: 0.4857142857142857\n",
      "Iteration 96, Error: 0.37142857142857144\n",
      "Iteration 97, Error: 0.5428571428571428\n",
      "Iteration 98, Error: 0.5428571428571428\n",
      "Iteration 99, Error: 0.45714285714285713\n",
      "Iteration 100, Error: 0.4857142857142857\n"
     ]
    }
   ],
   "source": [
    "# 4. Inicializar y entrenar el perceptrón\n",
    "modeloS = ps.Perceptron(X_train, y_train)  # Redimensionamos y_train para que sea un vector columna\n",
    "modeloS.pcntrain(X_train, y_train,eta = 0.3,nIterations=100)\n"
   ]
  },
  {
   "cell_type": "markdown",
   "id": "0ab2034f-27b0-4358-bddf-32d6a641639c",
   "metadata": {},
   "source": [
    "## Evaluar al perceptrón simlpe"
   ]
  },
  {
   "cell_type": "code",
   "execution_count": 13,
   "id": "49cea3e7-d233-4ade-80a9-a20ecacffe6c",
   "metadata": {},
   "outputs": [
    {
     "name": "stdout",
     "output_type": "stream",
     "text": [
      "Confusion matrix sobre la data de prueba:\n",
      "Confusion Matrix:\n",
      "[[39  0]\n",
      " [ 0 31]]\n",
      "Accuracy: 1.00\n"
     ]
    }
   ],
   "source": [
    "# 5. Evaluar el modelo en el conjunto de prueba\n",
    "print(\"Confusion matrix sobre la data de prueba:\")\n",
    "modeloS.confmat(X_train, y_train)"
   ]
  },
  {
   "cell_type": "code",
   "execution_count": 14,
   "id": "80bfaf64-b52a-4369-8c3a-23bcaf3d0c76",
   "metadata": {},
   "outputs": [
    {
     "name": "stdout",
     "output_type": "stream",
     "text": [
      "\n",
      "Resultados en conjunto de prueba:\n",
      "Confusion Matrix:\n",
      "[[ 9  0]\n",
      " [ 2 19]]\n",
      "Accuracy: 0.93\n"
     ]
    }
   ],
   "source": [
    "print(\"\\nResultados en conjunto de prueba:\")\n",
    "modeloS.confmat(X_test, y_test)"
   ]
  },
  {
   "cell_type": "markdown",
   "id": "7ba65f46-f9da-4c79-8f52-7f8347ccd211",
   "metadata": {},
   "source": [
    "# Resultados del perceptron simple\n",
    "Tras el entrenamiento del perceptron multicapa y de su evaluación, se observa que dicho modelo pese a ser relativamente \"simple\", dicho modelo logra acertar en un 93.33% de las veces, equivocandose apenas en 2 casos.\n",
    "\n"
   ]
  },
  {
   "cell_type": "markdown",
   "id": "679cb115-c3e5-48e3-8a28-70128b577c95",
   "metadata": {},
   "source": [
    "# Perceptrón Multicapa\n",
    "\n",
    "Para correr el perceptrón multicapa, primero fue necesario depurar los errores del codigo. Sorprendentemente, depurar este codigo tomo mucho menos, puesto que unicamente se depuraron los _print_ que no tenian parentesís, despues de esto el codigo funcionaba de forma satisfactoria.\n"
   ]
  },
  {
   "cell_type": "code",
   "execution_count": 15,
   "id": "0e227fa4-4ed5-4ba5-992c-323c2975b5b4",
   "metadata": {},
   "outputs": [],
   "source": [
    "import PerceptronM as pm"
   ]
  },
  {
   "cell_type": "code",
   "execution_count": 17,
   "id": "0a982715-9c25-4d9e-bf17-b7d88b12a2ea",
   "metadata": {},
   "outputs": [
    {
     "name": "stdout",
     "output_type": "stream",
     "text": [
      "Iteration:  0  Error:  9.376710343784147\n",
      "Iteration:  100  Error:  0.039566050068154335\n",
      "Iteration:  200  Error:  0.01702615704479691\n",
      "Iteration:  300  Error:  0.009531579727847881\n",
      "Iteration:  400  Error:  0.0062916164028956065\n",
      "Iteration:  500  Error:  0.004581603251391419\n"
     ]
    }
   ],
   "source": [
    "# Probar a entrenar la red multicapa con 5 capas ocultas, un eta de 0.2 y 500 iteraciones maximas\n",
    "modeloM = pm.mlp(X_train, y_train,5)\n",
    "modeloM.mlptrain(X_train, y_train,0.2,501)"
   ]
  },
  {
   "cell_type": "code",
   "execution_count": 18,
   "id": "9b9ebb65-c70e-44c6-9216-567ca9ab012d",
   "metadata": {},
   "outputs": [
    {
     "name": "stdout",
     "output_type": "stream",
     "text": [
      "Confusion matrix is:\n",
      "[[39.  0.]\n",
      " [ 0. 31.]]\n",
      "Percentage Correct:  100.0\n"
     ]
    }
   ],
   "source": [
    "# Hacer la matriz de confusión con los datos de entrenamiento\n",
    "modeloM.confmat(X_train, y_train)\n"
   ]
  },
  {
   "cell_type": "code",
   "execution_count": 20,
   "id": "86d4e1ea-dfe5-47b8-8ffe-48cc0fca34b4",
   "metadata": {},
   "outputs": [
    {
     "name": "stdout",
     "output_type": "stream",
     "text": [
      "Confusion matrix is:\n",
      "[[ 9.  0.]\n",
      " [ 2. 19.]]\n",
      "Percentage Correct:  93.33333333333333\n"
     ]
    }
   ],
   "source": [
    "# Hacer la matriz de confusión con los datos de prueba\n",
    "modeloM.confmat(X_test, y_test)"
   ]
  },
  {
   "cell_type": "markdown",
   "id": "538f3a7e-f782-4bb7-9d9d-c80b8413e1e2",
   "metadata": {},
   "source": [
    "# Resultados del perceptrón multicapa\n",
    "\n",
    "Tras realizar el ajuste de un modelo de perceptrón multicapa con 5 capas ocultas, se obtuvo una precisión del 93.33%, llegando a los mismos resultados que su versión simple.\n"
   ]
  }
 ],
 "metadata": {
  "kernelspec": {
   "display_name": "Python 3 (ipykernel)",
   "language": "python",
   "name": "python3"
  },
  "language_info": {
   "codemirror_mode": {
    "name": "ipython",
    "version": 3
   },
   "file_extension": ".py",
   "mimetype": "text/x-python",
   "name": "python",
   "nbconvert_exporter": "python",
   "pygments_lexer": "ipython3",
   "version": "3.13.0"
  }
 },
 "nbformat": 4,
 "nbformat_minor": 5
}
