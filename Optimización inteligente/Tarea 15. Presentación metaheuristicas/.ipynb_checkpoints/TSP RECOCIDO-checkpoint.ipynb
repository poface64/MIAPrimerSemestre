{
 "cells": [
  {
   "cell_type": "markdown",
   "metadata": {},
   "source": [
    "# Solving Simple TSP using Simulated Annealing"
   ]
  },
  {
   "cell_type": "code",
   "execution_count": 9,
   "metadata": {},
   "outputs": [],
   "source": [
    "from optalgotools.algorithms import SimulatedAnnealing\n",
    "from optalgotools.problems import TSP\n",
    "import numpy as np\n",
    "import matplotlib.pyplot as plt"
   ]
  },
  {
   "cell_type": "code",
   "execution_count": 10,
   "metadata": {},
   "outputs": [
    {
     "data": {
      "text/plain": [
       "[[0, 4, 2, 9, 12],\n",
       " [4, 0, 7, 5, 5],\n",
       " [2, 7, 0, 4, 10],\n",
       " [9, 5, 4, 0, 3],\n",
       " [12, 5, 10, 3, 0]]"
      ]
     },
     "execution_count": 10,
     "metadata": {},
     "output_type": "execute_result"
    }
   ],
   "source": [
    "# distance between the 5 cities\n",
    "dists = [ [0] * 5 for _ in range(5)]\n",
    "dists[0][1] = dists[1][0] = 4\n",
    "dists[0][2] = dists[2][0] = 2\n",
    "dists[0][3] = dists[3][0] = 9\n",
    "dists[0][4] = dists[4][0] = 12\n",
    "dists[1][2] = dists[2][1] = 7\n",
    "dists[1][3] = dists[3][1] = 5\n",
    "dists[1][4] = dists[4][1] = 5\n",
    "dists[2][3] = dists[3][2] = 4\n",
    "dists[2][4] = dists[4][2] = 10\n",
    "dists[3][4] = dists[4][3] = 3\n",
    "dists"
   ]
  },
  {
   "cell_type": "code",
   "execution_count": 11,
   "metadata": {},
   "outputs": [
    {
     "data": {
      "image/png": "[encoded data removed]",
      "text/plain": [
       "<Figure size 800x600 with 1 Axes>"
      ]
     },
     "metadata": {},
     "output_type": "display_data"
    }
   ],
   "source": [
    "# Distance between the 5 cities (as given in the code)\n",
    "dists1 = [\n",
    "    [0, 4, 2, 9, 12],\n",
    "    [4, 0, 7, 5, 5],\n",
    "    [2, 7, 0, 4, 10],\n",
    "    [9, 5, 4, 0, 3],\n",
    "    [12, 5, 10, 3, 0]\n",
    "]\n",
    "# Using Multidimensional Scaling (MDS) to reduce the dimensionality of the distance matrix\n",
    "from sklearn.manifold import MDS\n",
    "# Apply MDS to reduce the 5x5 distance matrix to 2D\n",
    "mds = MDS(n_components=2, dissimilarity='precomputed', random_state=42)\n",
    "coords = mds.fit_transform(dists1)\n",
    "\n",
    "# Plotting the cities on a 2D plane\n",
    "plt.figure(figsize=(8, 6))\n",
    "plt.scatter(coords[:, 0], coords[:, 1], c='blue', marker='o')\n",
    "# Label the cities\n",
    "for i, (x, y) in enumerate(coords):\n",
    "    plt.text(x, y, f'City {i+1}', fontsize=12, ha='right')\n",
    "# Adding titles and labels\n",
    "plt.title('City Layout based on Distance Matrix', fontsize=14)\n",
    "plt.xlabel('X Coordinate', fontsize=12)\n",
    "plt.ylabel('Y Coordinate', fontsize=12)\n",
    "# Show the plot\n",
    "plt.grid(True)\n",
    "plt.show()"
   ]
  },
  {
   "cell_type": "code",
   "execution_count": 12,
   "metadata": {},
   "outputs": [],
   "source": [
    "## Options available in TSP class imported from optimization_algorithms_tools.problems\n",
    "# gen_method: supports different methods for mutating a new solution from an old one. It can be:\n",
    "#             'random_swap':  swap 2 citis in the path, it can be done multiple times in for 1 solition \n",
    "#                             by using num_swaps. Also, the swap can be done in a smaller window the the whole\n",
    "#                             path using swap_wind = [1 - n]\n",
    "#             'reverse':      reverse the order of a subset of the cities with len either random by using rand_len, or\n",
    "#                             with rev_len which default to 2\n",
    "#             'insert':       pick a random city and remove from the path and re-inserting it in before a different random\n",
    "#                             city\n",
    "#             'mutate':       generate a new solution by radomly mutating the current one\n",
    "#\n",
    "# init_method: It support two methods of initializing the path, either:\n",
    "#             'random':       which means the path is generated completely random\n",
    "#             'greedy'        which try to select a sup-optimal initial path by selecting the pairwise shortest distances \n",
    "#                             between citis. This will not leed to the shortest path but it much better than the random\n",
    "\n",
    "tsp_sample = TSP(dists=dists, gen_method='random_swap', init_method='random')"
   ]
  },
  {
   "cell_type": "code",
   "execution_count": 13,
   "metadata": {},
   "outputs": [
    {
     "name": "stdout",
     "output_type": "stream",
     "text": [
      "Simulated annealing is initialized:\n",
      "current value = 26, current temp=500\n",
      "Simulated Annealing is done: \n",
      "curr iter: 5556, curr best value: 18, curr temp:0.0999900009999, curr best: sol: [0, 1, 4, 3, 2, 0]\n"
     ]
    }
   ],
   "source": [
    "# # Options available in SimulatedAnnealing class imported from optimization_algorithms_tools.algorithms\n",
    "# cooling_schedule\n",
    "#     'linear'\n",
    "#     'geometric'\n",
    "#     'logarithmic'\n",
    "#     'exponential'\n",
    "#     'linear_inverse'\n",
    "sa = SimulatedAnnealing(max_iter=10000, max_iter_per_temp=1,\n",
    "                        initial_temp=500, \n",
    "                        final_temp=50,\n",
    "                        cooling_schedule='linear_inverse', \n",
    "                        cooling_alpha=0.9, debug=1)\n",
    "sa.run(tsp_sample)"
   ]
  },
  {
   "cell_type": "code",
   "execution_count": 17,
   "metadata": {},
   "outputs": [
    {
     "name": "stdout",
     "output_type": "stream",
     "text": [
      "Simulated annealing is initialized:\n",
      "current value = 31, current temp=500\n",
      "curr iter: 1, curr value: 26, curr best value: 26, curr temp:500, curr best: sol: [0, 2, 1, 4, 3, 0]\n",
      "curr iter: 2, curr value: 29, curr best value: 26, curr temp:263.15789473684214, curr best: sol: [0, 2, 1, 4, 3, 0]\n",
      "curr iter: 3, curr value: 43, curr best value: 26, curr temp:178.57142857142858, curr best: sol: [0, 2, 1, 4, 3, 0]\n",
      "curr iter: 4, curr value: 37, curr best value: 26, curr temp:135.13513513513513, curr best: sol: [0, 2, 1, 4, 3, 0]\n",
      "curr iter: 5, curr value: 43, curr best value: 26, curr temp:108.69565217391305, curr best: sol: [0, 2, 1, 4, 3, 0]\n",
      "curr iter: 6, curr value: 35, curr best value: 26, curr temp:90.9090909090909, curr best: sol: [0, 2, 1, 4, 3, 0]\n",
      "curr iter: 7, curr value: 32, curr best value: 26, curr temp:78.125, curr best: sol: [0, 2, 1, 4, 3, 0]\n",
      "curr iter: 8, curr value: 33, curr best value: 26, curr temp:68.4931506849315, curr best: sol: [0, 2, 1, 4, 3, 0]\n",
      "curr iter: 9, curr value: 30, curr best value: 26, curr temp:60.97560975609757, curr best: sol: [0, 2, 1, 4, 3, 0]\n",
      "curr iter: 10, curr value: 35, curr best value: 26, curr temp:54.94505494505495, curr best: sol: [0, 2, 1, 4, 3, 0]\n",
      "curr iter: 11, curr value: 24, curr best value: 24, curr temp:50.0, curr best: sol: [0, 2, 4, 3, 1, 0]\n",
      "curr iter: 12, curr value: 33, curr best value: 24, curr temp:45.87155963302752, curr best: sol: [0, 2, 4, 3, 1, 0]\n",
      "curr iter: 13, curr value: 26, curr best value: 24, curr temp:42.3728813559322, curr best: sol: [0, 2, 4, 3, 1, 0]\n",
      "curr iter: 14, curr value: 31, curr best value: 24, curr temp:39.370078740157474, curr best: sol: [0, 2, 4, 3, 1, 0]\n",
      "curr iter: 15, curr value: 24, curr best value: 24, curr temp:36.76470588235294, curr best: sol: [0, 2, 4, 3, 1, 0]\n",
      "curr iter: 16, curr value: 33, curr best value: 24, curr temp:34.48275862068966, curr best: sol: [0, 2, 4, 3, 1, 0]\n",
      "curr iter: 17, curr value: 30, curr best value: 24, curr temp:32.467532467532465, curr best: sol: [0, 2, 4, 3, 1, 0]\n",
      "curr iter: 18, curr value: 33, curr best value: 24, curr temp:30.674846625766868, curr best: sol: [0, 2, 4, 3, 1, 0]\n",
      "curr iter: 19, curr value: 43, curr best value: 24, curr temp:29.069767441860467, curr best: sol: [0, 2, 4, 3, 1, 0]\n",
      "curr iter: 20, curr value: 37, curr best value: 24, curr temp:27.62430939226519, curr best: sol: [0, 2, 4, 3, 1, 0]\n",
      "Simulated Annealing is done: \n",
      "curr iter: 21, curr best value: 24, curr temp:26.31578947368421, curr best: sol: [0, 2, 4, 3, 1, 0]\n"
     ]
    }
   ],
   "source": [
    "# hand iteration with debug = 2\n",
    "sa = SimulatedAnnealing(max_iter=20, max_iter_per_temp=1, initial_temp=500, final_temp=50, cooling_schedule='linear_inverse', cooling_alpha=0.9, debug=2)\n",
    "sa.run(tsp_sample)"
   ]
  }
 ],
 "metadata": {
  "kernelspec": {
   "display_name": "Python 3 (ipykernel)",
   "language": "python",
   "name": "python3"
  },
  "language_info": {
   "codemirror_mode": {
    "name": "ipython",
    "version": 3
   },
   "file_extension": ".py",
   "mimetype": "text/x-python",
   "name": "python",
   "nbconvert_exporter": "python",
   "pygments_lexer": "ipython3",
   "version": "3.13.0"
  },
  "vscode": {
   "interpreter": {
    "hash": "899ff88a75886fc7a7b40f2d92fee8f59f6284588a3bf99939bb8f65c5caf859"
   }
  }
 },
 "nbformat": 4,
 "nbformat_minor": 4
}
